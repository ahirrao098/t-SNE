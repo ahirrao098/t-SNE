{
 "cells": [
  {
   "cell_type": "code",
   "execution_count": 1,
   "metadata": {},
   "outputs": [
    {
     "name": "stdout",
     "output_type": "stream",
     "text": [
      "Collecting bioinfokit\n",
      "  Downloading bioinfokit-2.0.8.tar.gz (84 kB)\n",
      "Requirement already satisfied: pandas in c:\\users\\rohi\\anaconda3\\lib\\site-packages (from bioinfokit) (1.0.5)\n",
      "Requirement already satisfied: numpy in c:\\users\\rohi\\anaconda3\\lib\\site-packages (from bioinfokit) (1.19.5)\n",
      "Requirement already satisfied: matplotlib in c:\\users\\rohi\\anaconda3\\lib\\site-packages (from bioinfokit) (3.2.2)\n",
      "Requirement already satisfied: scipy in c:\\users\\rohi\\anaconda3\\lib\\site-packages (from bioinfokit) (1.5.0)\n",
      "Requirement already satisfied: scikit-learn in c:\\users\\rohi\\anaconda3\\lib\\site-packages (from bioinfokit) (0.23.1)\n",
      "Requirement already satisfied: seaborn in c:\\users\\rohi\\anaconda3\\lib\\site-packages (from bioinfokit) (0.10.1)\n",
      "Collecting matplotlib-venn\n",
      "  Downloading matplotlib-venn-0.11.7.tar.gz (29 kB)\n",
      "Collecting tabulate\n",
      "  Downloading tabulate-0.8.9-py3-none-any.whl (25 kB)\n",
      "Requirement already satisfied: statsmodels in c:\\users\\rohi\\anaconda3\\lib\\site-packages (from bioinfokit) (0.11.1)\n",
      "Collecting textwrap3\n",
      "  Downloading textwrap3-0.9.2-py2.py3-none-any.whl (12 kB)\n",
      "Collecting adjustText\n",
      "  Downloading adjustText-0.7.3.tar.gz (7.5 kB)\n",
      "Requirement already satisfied: pytz>=2017.2 in c:\\users\\rohi\\anaconda3\\lib\\site-packages (from pandas->bioinfokit) (2020.1)\n",
      "Requirement already satisfied: python-dateutil>=2.6.1 in c:\\users\\rohi\\anaconda3\\lib\\site-packages (from pandas->bioinfokit) (2.8.1)\n",
      "Requirement already satisfied: kiwisolver>=1.0.1 in c:\\users\\rohi\\anaconda3\\lib\\site-packages (from matplotlib->bioinfokit) (1.2.0)\n",
      "Requirement already satisfied: pyparsing!=2.0.4,!=2.1.2,!=2.1.6,>=2.0.1 in c:\\users\\rohi\\anaconda3\\lib\\site-packages (from matplotlib->bioinfokit) (2.4.7)\n",
      "Requirement already satisfied: cycler>=0.10 in c:\\users\\rohi\\anaconda3\\lib\\site-packages (from matplotlib->bioinfokit) (0.10.0)\n",
      "Requirement already satisfied: joblib>=0.11 in c:\\users\\rohi\\anaconda3\\lib\\site-packages (from scikit-learn->bioinfokit) (0.16.0)\n",
      "Requirement already satisfied: threadpoolctl>=2.0.0 in c:\\users\\rohi\\anaconda3\\lib\\site-packages (from scikit-learn->bioinfokit) (2.1.0)\n",
      "Requirement already satisfied: patsy>=0.5 in c:\\users\\rohi\\anaconda3\\lib\\site-packages (from statsmodels->bioinfokit) (0.5.1)\n",
      "Requirement already satisfied: six>=1.5 in c:\\users\\rohi\\anaconda3\\lib\\site-packages (from python-dateutil>=2.6.1->pandas->bioinfokit) (1.15.0)\n",
      "Building wheels for collected packages: bioinfokit, matplotlib-venn, adjustText\n",
      "  Building wheel for bioinfokit (setup.py): started\n",
      "  Building wheel for bioinfokit (setup.py): finished with status 'done'\n",
      "  Created wheel for bioinfokit: filename=bioinfokit-2.0.8-py3-none-any.whl size=56770 sha256=c62ba55cf3834dd1f21c5c82a2a9c84a78a51bb819eaac8ff74cb74fe0e6d50f\n",
      "  Stored in directory: c:\\users\\rohi\\appdata\\local\\pip\\cache\\wheels\\40\\b8\\82\\23dd1b441e2c834181d4c595cff79f091212eb2c482e0550e2\n",
      "  Building wheel for matplotlib-venn (setup.py): started\n",
      "  Building wheel for matplotlib-venn (setup.py): finished with status 'done'\n",
      "  Created wheel for matplotlib-venn: filename=matplotlib_venn-0.11.7-py3-none-any.whl size=32154 sha256=a45a7982f957d845b76e109cfeb4c40a971afe87f0b23a46b08765c033459769\n",
      "  Stored in directory: c:\\users\\rohi\\appdata\\local\\pip\\cache\\wheels\\fb\\24\\13\\4c7b7f4121843c2fc7c5d6b4b1e3ab57be33428997761f996f\n",
      "  Building wheel for adjustText (setup.py): started\n",
      "  Building wheel for adjustText (setup.py): finished with status 'done'\n",
      "  Created wheel for adjustText: filename=adjustText-0.7.3-py3-none-any.whl size=7098 sha256=40527dbf4cf83cc0e7a4ba2bc302b0ec80fb3fbc73090dd3ff6fc32aa5f9da36\n",
      "  Stored in directory: c:\\users\\rohi\\appdata\\local\\pip\\cache\\wheels\\06\\b2\\e0\\b239bd2c0ff89b98c4f0c86a63e7059f38a8dfaf6df2641c63\n",
      "Successfully built bioinfokit matplotlib-venn adjustText\n",
      "Installing collected packages: matplotlib-venn, tabulate, textwrap3, adjustText, bioinfokit\n",
      "Successfully installed adjustText-0.7.3 bioinfokit-2.0.8 matplotlib-venn-0.11.7 tabulate-0.8.9 textwrap3-0.9.2\n"
     ]
    }
   ],
   "source": [
    "!pip install bioinfokit"
   ]
  },
  {
   "cell_type": "code",
   "execution_count": 2,
   "metadata": {},
   "outputs": [],
   "source": [
    "from pandas import read_csv\n",
    "import pandas as pd\n",
    "\n",
    "from sklearn.manifold import TSNE\n",
    "from bioinfokit.visuz import cluster"
   ]
  },
  {
   "cell_type": "code",
   "execution_count": 3,
   "metadata": {},
   "outputs": [],
   "source": [
    "# load data\n",
    "filename = 'TSNE_data.csv'\n",
    "dataframe = pd.read_csv(filename)"
   ]
  },
  {
   "cell_type": "code",
   "execution_count": 4,
   "metadata": {},
   "outputs": [],
   "source": [
    "# Split-out validation dataset\n",
    "array = dataframe.values\n",
    "# separate array into input and output components\n",
    "X = array[:,1:]\n",
    "Y = array[:,0]"
   ]
  },
  {
   "cell_type": "code",
   "execution_count": 5,
   "metadata": {},
   "outputs": [],
   "source": [
    "#TSNE visualization\n",
    "from bioinfokit.visuz import cluster\n",
    "\n",
    "data_tsne = TSNE(n_components=2).fit_transform(X)\n",
    "cluster.tsneplot(score=data_tsne)"
   ]
  },
  {
   "cell_type": "code",
   "execution_count": 6,
   "metadata": {},
   "outputs": [],
   "source": [
    "# get a list of categories\n",
    "color_class = dataframe['diagnosis'].to_numpy()\n",
    "cluster.tsneplot(score=data_tsne, colorlist=color_class, legendpos='upper right',legendanchor=(1.15, 1))\n",
    "\n",
    "#Plot will be stored in the default directory"
   ]
  },
  {
   "cell_type": "code",
   "execution_count": 7,
   "metadata": {},
   "outputs": [
    {
     "data": {
      "text/plain": [
       "array([[30.845596, 14.163721],\n",
       "       [28.004183, 13.721644],\n",
       "       [26.561602,  8.925091],\n",
       "       ...,\n",
       "       [21.027681, -9.164475],\n",
       "       [28.194412, 11.476166],\n",
       "       [-8.38902 , 34.934063]], dtype=float32)"
      ]
     },
     "execution_count": 7,
     "metadata": {},
     "output_type": "execute_result"
    }
   ],
   "source": [
    "data_tsne"
   ]
  },
  {
   "cell_type": "code",
   "execution_count": null,
   "metadata": {},
   "outputs": [],
   "source": []
  },
  {
   "cell_type": "code",
   "execution_count": null,
   "metadata": {},
   "outputs": [],
   "source": []
  },
  {
   "cell_type": "code",
   "execution_count": null,
   "metadata": {},
   "outputs": [],
   "source": []
  },
  {
   "cell_type": "code",
   "execution_count": null,
   "metadata": {},
   "outputs": [],
   "source": []
  },
  {
   "cell_type": "code",
   "execution_count": null,
   "metadata": {},
   "outputs": [],
   "source": []
  },
  {
   "cell_type": "code",
   "execution_count": null,
   "metadata": {},
   "outputs": [],
   "source": []
  },
  {
   "cell_type": "code",
   "execution_count": null,
   "metadata": {},
   "outputs": [],
   "source": []
  },
  {
   "cell_type": "code",
   "execution_count": null,
   "metadata": {},
   "outputs": [],
   "source": []
  },
  {
   "cell_type": "code",
   "execution_count": null,
   "metadata": {},
   "outputs": [],
   "source": []
  },
  {
   "cell_type": "code",
   "execution_count": null,
   "metadata": {},
   "outputs": [],
   "source": []
  },
  {
   "cell_type": "code",
   "execution_count": null,
   "metadata": {},
   "outputs": [],
   "source": []
  },
  {
   "cell_type": "code",
   "execution_count": null,
   "metadata": {},
   "outputs": [],
   "source": []
  },
  {
   "cell_type": "code",
   "execution_count": null,
   "metadata": {},
   "outputs": [],
   "source": []
  },
  {
   "cell_type": "code",
   "execution_count": null,
   "metadata": {},
   "outputs": [],
   "source": []
  },
  {
   "cell_type": "code",
   "execution_count": null,
   "metadata": {},
   "outputs": [],
   "source": []
  },
  {
   "cell_type": "code",
   "execution_count": null,
   "metadata": {},
   "outputs": [],
   "source": []
  },
  {
   "cell_type": "code",
   "execution_count": null,
   "metadata": {},
   "outputs": [],
   "source": []
  },
  {
   "cell_type": "code",
   "execution_count": null,
   "metadata": {},
   "outputs": [],
   "source": []
  },
  {
   "cell_type": "code",
   "execution_count": null,
   "metadata": {},
   "outputs": [],
   "source": []
  },
  {
   "cell_type": "code",
   "execution_count": null,
   "metadata": {},
   "outputs": [],
   "source": []
  },
  {
   "cell_type": "code",
   "execution_count": null,
   "metadata": {},
   "outputs": [],
   "source": []
  },
  {
   "cell_type": "code",
   "execution_count": null,
   "metadata": {},
   "outputs": [],
   "source": []
  },
  {
   "cell_type": "code",
   "execution_count": null,
   "metadata": {},
   "outputs": [],
   "source": []
  },
  {
   "cell_type": "code",
   "execution_count": null,
   "metadata": {},
   "outputs": [],
   "source": []
  },
  {
   "cell_type": "code",
   "execution_count": null,
   "metadata": {},
   "outputs": [],
   "source": []
  },
  {
   "cell_type": "code",
   "execution_count": null,
   "metadata": {},
   "outputs": [],
   "source": []
  },
  {
   "cell_type": "code",
   "execution_count": null,
   "metadata": {},
   "outputs": [],
   "source": []
  },
  {
   "cell_type": "code",
   "execution_count": null,
   "metadata": {},
   "outputs": [],
   "source": []
  },
  {
   "cell_type": "code",
   "execution_count": null,
   "metadata": {},
   "outputs": [],
   "source": []
  },
  {
   "cell_type": "code",
   "execution_count": null,
   "metadata": {},
   "outputs": [],
   "source": []
  },
  {
   "cell_type": "code",
   "execution_count": null,
   "metadata": {},
   "outputs": [],
   "source": []
  },
  {
   "cell_type": "code",
   "execution_count": null,
   "metadata": {},
   "outputs": [],
   "source": []
  },
  {
   "cell_type": "code",
   "execution_count": null,
   "metadata": {},
   "outputs": [],
   "source": []
  },
  {
   "cell_type": "code",
   "execution_count": null,
   "metadata": {},
   "outputs": [],
   "source": []
  },
  {
   "cell_type": "code",
   "execution_count": null,
   "metadata": {},
   "outputs": [],
   "source": []
  },
  {
   "cell_type": "code",
   "execution_count": null,
   "metadata": {},
   "outputs": [],
   "source": []
  },
  {
   "cell_type": "code",
   "execution_count": null,
   "metadata": {},
   "outputs": [],
   "source": []
  }
 ],
 "metadata": {
  "kernelspec": {
   "display_name": "Python 3",
   "language": "python",
   "name": "python3"
  },
  "language_info": {
   "codemirror_mode": {
    "name": "ipython",
    "version": 3
   },
   "file_extension": ".py",
   "mimetype": "text/x-python",
   "name": "python",
   "nbconvert_exporter": "python",
   "pygments_lexer": "ipython3",
   "version": "3.8.3"
  }
 },
 "nbformat": 4,
 "nbformat_minor": 4
}
